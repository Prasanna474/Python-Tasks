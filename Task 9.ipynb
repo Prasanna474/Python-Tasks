{
 "cells": [
  {
   "cell_type": "code",
   "execution_count": 1,
   "id": "3dfdf4ef",
   "metadata": {},
   "outputs": [
    {
     "name": "stdout",
     "output_type": "stream",
     "text": [
      "Enter number 1 25\n",
      "Enter number 2 48\n",
      "Enter operator key6\n",
      "Invalid key\n"
     ]
    }
   ],
   "source": [
    "num1=int(input(\"Enter number 1 \"))\n",
    "num2=int(input(\"Enter number 2 \"))\n",
    "key=int(input(\"Enter operator key\"))\n",
    "\n",
    "if(key==1):\n",
    "    print(num1+num2)\n",
    "elif(key==2):\n",
    "    print(num1-num2)\n",
    "elif(key==3):\n",
    "    print(num1*num2)\n",
    "elif(key==4):\n",
    "    print(num1/num2)\n",
    "else:\n",
    "    print(\"Invalid key\")"
   ]
  },
  {
   "cell_type": "code",
   "execution_count": null,
   "id": "c59a77d8",
   "metadata": {},
   "outputs": [],
   "source": []
  }
 ],
 "metadata": {
  "kernelspec": {
   "display_name": "Python 3",
   "language": "python",
   "name": "python3"
  },
  "language_info": {
   "codemirror_mode": {
    "name": "ipython",
    "version": 3
   },
   "file_extension": ".py",
   "mimetype": "text/x-python",
   "name": "python",
   "nbconvert_exporter": "python",
   "pygments_lexer": "ipython3",
   "version": "3.8.8"
  }
 },
 "nbformat": 4,
 "nbformat_minor": 5
}
