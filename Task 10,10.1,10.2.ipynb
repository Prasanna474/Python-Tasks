{
 "cells": [
  {
   "cell_type": "code",
   "execution_count": null,
   "id": "817104e4",
   "metadata": {},
   "outputs": [],
   "source": [
    "#Task 10.1  \n",
    "\n",
    "\"what is the uasge of continue with an example.\"\n",
    " \n",
    "    \n",
    "Ans : When we need to skip a particular iteration in a loop execution, we need to use continue keyword."
   ]
  },
  {
   "cell_type": "code",
   "execution_count": 1,
   "id": "9e93062a",
   "metadata": {},
   "outputs": [
    {
     "name": "stdout",
     "output_type": "stream",
     "text": [
      "0\n",
      "3\n",
      "6\n",
      "9\n",
      "12\n",
      "15\n",
      "18\n",
      "21\n",
      "24\n",
      "27\n"
     ]
    }
   ],
   "source": [
    "# To print multiples of 3 in the given range\n",
    "for i in range(0,30):\n",
    "    if(i%3!=0):\n",
    "        continue\n",
    "    else:\n",
    "        print(i)"
   ]
  },
  {
   "cell_type": "code",
   "execution_count": null,
   "id": "665cbd11",
   "metadata": {},
   "outputs": [],
   "source": [
    "#Task 10.2 \n",
    "\n",
    "\"What is pass keyword, with example.\"\n",
    "\n",
    "\n",
    "Ans : Pass keyword is just used to avoid empty code blocks in loops, functions so that we could escape from getting an error."
   ]
  },
  {
   "cell_type": "code",
   "execution_count": 2,
   "id": "2880bfb6",
   "metadata": {},
   "outputs": [
    {
     "name": "stdout",
     "output_type": "stream",
     "text": [
      "Prasanna\n",
      "is\n",
      "cricket\n",
      "player\n"
     ]
    }
   ],
   "source": [
    "lst=['Prasanna','is','cricket','player']\n",
    "for i in lst:\n",
    "    print(i)\n",
    "    pass"
   ]
  },
  {
   "cell_type": "code",
   "execution_count": 3,
   "id": "9bcc3480",
   "metadata": {},
   "outputs": [
    {
     "name": "stdout",
     "output_type": "stream",
     "text": [
      "ok\n"
     ]
    }
   ],
   "source": [
    "if('I'<'i'):\n",
    "    print('ok')\n",
    "else:\n",
    "    pass"
   ]
  },
  {
   "cell_type": "code",
   "execution_count": 5,
   "id": "a9f6be20",
   "metadata": {},
   "outputs": [],
   "source": [
    "for i in range(100):\n",
    "    pass"
   ]
  },
  {
   "cell_type": "code",
   "execution_count": null,
   "id": "c0f0bddd",
   "metadata": {},
   "outputs": [],
   "source": [
    "#Task10\n",
    "\n",
    "\n",
    "\"using while loop print numbers from 10 to 1\"\n",
    "\"try using for loop to loop over tuples,sets and dictionaries\""
   ]
  },
  {
   "cell_type": "code",
   "execution_count": 12,
   "id": "8708eb6c",
   "metadata": {},
   "outputs": [
    {
     "name": "stdout",
     "output_type": "stream",
     "text": [
      "10\n",
      "9\n",
      "8\n",
      "7\n",
      "6\n",
      "5\n",
      "4\n",
      "3\n",
      "2\n",
      "1\n"
     ]
    }
   ],
   "source": [
    "# Using while loop print numbers from 10 to 1\n",
    "\n",
    "i=10\n",
    "while(i>0):\n",
    "    print(i)\n",
    "    i=i-1"
   ]
  },
  {
   "cell_type": "code",
   "execution_count": 19,
   "id": "efe4e544",
   "metadata": {},
   "outputs": [
    {
     "name": "stdout",
     "output_type": "stream",
     "text": [
      "1\n",
      "hello\n",
      "2\n",
      "world\n",
      " \n",
      "10\n",
      "20\n",
      "30\n",
      " \n",
      "Prasanna\n",
      "Mechanical\n",
      "Passion\n",
      " \n"
     ]
    }
   ],
   "source": [
    "\n",
    "#Try using for loop to loop over tuples,sets and dictionaries\n",
    "\n",
    "\n",
    "lst=[1,'hello',2,'world']\n",
    "tup=(10,20,30)\n",
    "dt={\"Prasanna\":\"student\", \"Mechanical\":\"Branch\", \"Passion\":\"Film making\"}\n",
    "\n",
    "for i in lst:\n",
    "    print(i)\n",
    "print(\" \")   \n",
    "\n",
    "\n",
    "for j in tup:\n",
    "    print(j)\n",
    "print(\" \")   \n",
    "    \n",
    "for item in dt:\n",
    "    print(item)\n",
    "print(\" \")\n",
    "\n",
    "\n"
   ]
  },
  {
   "cell_type": "code",
   "execution_count": null,
   "id": "7ff5da98",
   "metadata": {},
   "outputs": [],
   "source": []
  }
 ],
 "metadata": {
  "kernelspec": {
   "display_name": "Python 3",
   "language": "python",
   "name": "python3"
  },
  "language_info": {
   "codemirror_mode": {
    "name": "ipython",
    "version": 3
   },
   "file_extension": ".py",
   "mimetype": "text/x-python",
   "name": "python",
   "nbconvert_exporter": "python",
   "pygments_lexer": "ipython3",
   "version": "3.8.8"
  }
 },
 "nbformat": 4,
 "nbformat_minor": 5
}
